{
 "cells": [
  {
   "cell_type": "markdown",
   "metadata": {},
   "source": [
    "# California Maternity Hospital Random Forest Model\n",
    "## Karla Knudson\n",
    "### Insight Data Science - Health Data 2018"
   ]
  },
  {
   "cell_type": "markdown",
   "metadata": {},
   "source": [
    "### Background and Goals of this Project: \n",
    "Here, I conduct Random Forest analysis to determine whether there are consistent hospital features or demographic factors that are largely responsible for the rates of Cesarean-Sections (C-sections) within California maternity hospitals. According to the California Health and Human Services, hospital rates for uncomplicated C-sections in the state range from 11 to more than 70%. According to experts, this wide range is not biologically necessary (e.g., Avery et al., 2017, Obstetrics and Gynecology). Thus, the focus of this model is not on individual mothers' health records but on hospital-level records of demographics and hospital features."
   ]
  },
  {
   "cell_type": "markdown",
   "metadata": {},
   "source": [
    "### About the data"
   ]
  },
  {
   "cell_type": "markdown",
   "metadata": {},
   "source": [
    "I compiled four different datasets from the California Health and Human Services Open Data Portal: \n",
    "\n",
    "1. Primary Care Health Professional Shortage Area (HPSA) - Census Detail\n",
    "https://data.chhs.ca.gov/dataset/primary-care-health-professional-shortage-area-hpsa-census-detail\n",
    "This dataset contains the Medical Service Study Areas (MSSA), at the census tract level, designated as Primary Care Health Professional Shortage Areas in California in 2014.\n",
    "\n",
    "2. Utilization rates for select medical procedures (2005-2015)\n",
    "https://data.chhs.ca.gov/dataset/utilization-rates-for-selected-medical-procedures-in-california-hospitals\n",
    "For each hospital in CA, there is info on the rates of: \n",
    "Uncomplicated Primary C-section\n",
    "Uncomplicated VBAC\n",
    "Vaginal Birth after C-Section\n",
    "Laparoscopic Cholecystectomy (Gall Bladder Surgery)\n",
    "\n",
    "3. 2017 Hospital Inpatient - Characteristics by Facility (Pivot Profile)\n",
    "https://data.chhs.ca.gov/dataset/ed5d21ce-9ec4-44ca-a482-2f4c767e0528/resource/fa44b3f7-7c0d-4baa-b49c-4ebb8c4ebe4e/download/2017pddpivot20180712.xlsm\n",
    "\n",
    "4. Licensed Bed Classification and Designations Trends\n",
    "https://data.chhs.ca.gov/dataset/licensed-bed-classification-and-designations-trends/resource/2cfb1ff7-c204-4f5b-8e1f-2373007fe1d1\n",
    "\n",
    "Data sets were compiled using VLOOKUP tables in Excel prior to importing into Jupyter Notebook."
   ]
  },
  {
   "cell_type": "markdown",
   "metadata": {},
   "source": [
    "### Import packages and data"
   ]
  },
  {
   "cell_type": "code",
   "execution_count": 3,
   "metadata": {
    "scrolled": false
   },
   "outputs": [],
   "source": [
    "from sklearn.ensemble import RandomForestRegressor, GradientBoostingRegressor\n",
    "\n",
    "from sklearn.model_selection import train_test_split, RandomizedSearchCV, GridSearchCV, cross_val_score\n",
    "from sklearn.pipeline import make_pipeline\n",
    "from sklearn.metrics import r2_score, mean_squared_error\n",
    "from sklearn.model_selection import LeaveOneOut\n",
    "\n",
    "import numpy as np\n",
    "import pandas as pd\n",
    "from pandas import DataFrame\n",
    "import matplotlib.pyplot as plt\n",
    "\n",
    "hospital_data = pd.read_csv('/Users/knudsonk/Desktop/Insight_Code/hospital7.csv')"
   ]
  },
  {
   "cell_type": "markdown",
   "metadata": {},
   "source": [
    "### Data used for Random Forest\n",
    "In several iterations of Random Forest Modeling, I looked at various hospital-level features including: uncomplicated C-section rates, vaginal birth after C-section rates (VBAC), patient discharges (total), patient discharges in the neonatal intensive care unit, race of patients, patient insurance type, number of newborns per year, Health Professional Shortage Area status, the total number of births in the hospital divided by the total number of staffed beds in the whole hospital (number of staffed beds for just the maternity unit was not available), the percentage of patients treated at the hospital who were female, the percentage of patients treated at the hospital who were pregnant, the diagnosed birth defects at the hospital divided by the total number of births at the hospital, and the percent of people who were under the 100% and 200% poverty line in the census area in which the hospital was located. Many iterations of Random Forest Modeling were conducted to reduce the possibility that two strongly correlated features would lessen their relative feature importances. For example, the 100% and 200% poverty variables were investigated separately, and the total hospital patients and the total admitted newborns were looked at separately, etc."
   ]
  },
  {
   "cell_type": "code",
   "execution_count": 4,
   "metadata": {},
   "outputs": [],
   "source": [
    "df = DataFrame(hospital_data,columns=['hospital','C_sec_uncomp_rate','vbac','births_per_bed','HPSA_SHORTAGE','HPSA_SHORTAGE_0_1','TOC_acute_div_by_beds','female_patients_percent','hispanic_percent','white_percent','Admt_Newborn','Payer_Medi_Cal_percent','Payer_Priv_Coverage_percent','Payer_Self_Pay_percent','nicu_div_by_births','BirthDefects_div_by_births','Dx_preg_percent','PCT200POV'])"
   ]
  },
  {
   "cell_type": "markdown",
   "metadata": {},
   "source": [
    "### Select features to put into model"
   ]
  },
  {
   "cell_type": "code",
   "execution_count": 5,
   "metadata": {},
   "outputs": [
    {
     "data": {
      "text/html": [
       "<div>\n",
       "<style scoped>\n",
       "    .dataframe tbody tr th:only-of-type {\n",
       "        vertical-align: middle;\n",
       "    }\n",
       "\n",
       "    .dataframe tbody tr th {\n",
       "        vertical-align: top;\n",
       "    }\n",
       "\n",
       "    .dataframe thead th {\n",
       "        text-align: right;\n",
       "    }\n",
       "</style>\n",
       "<table border=\"1\" class=\"dataframe\">\n",
       "  <thead>\n",
       "    <tr style=\"text-align: right;\">\n",
       "      <th></th>\n",
       "      <th>hospital</th>\n",
       "      <th>C_sec_uncomp_rate</th>\n",
       "      <th>vbac</th>\n",
       "      <th>births_per_bed</th>\n",
       "      <th>HPSA_SHORTAGE</th>\n",
       "      <th>HPSA_SHORTAGE_0_1</th>\n",
       "      <th>TOC_acute_div_by_beds</th>\n",
       "      <th>female_patients_percent</th>\n",
       "      <th>hispanic_percent</th>\n",
       "      <th>white_percent</th>\n",
       "      <th>Admt_Newborn</th>\n",
       "      <th>Payer_Medi_Cal_percent</th>\n",
       "      <th>Payer_Priv_Coverage_percent</th>\n",
       "      <th>Payer_Self_Pay_percent</th>\n",
       "      <th>nicu_div_by_births</th>\n",
       "      <th>BirthDefects_div_by_births</th>\n",
       "      <th>Dx_preg_percent</th>\n",
       "      <th>PCT200POV</th>\n",
       "    </tr>\n",
       "  </thead>\n",
       "  <tbody>\n",
       "    <tr>\n",
       "      <th>0</th>\n",
       "      <td>Saint Rose Hospital</td>\n",
       "      <td>25.7</td>\n",
       "      <td>0.0</td>\n",
       "      <td>2.889780</td>\n",
       "      <td>0.0</td>\n",
       "      <td>0</td>\n",
       "      <td>24.653307</td>\n",
       "      <td>57.031377</td>\n",
       "      <td>50</td>\n",
       "      <td>94</td>\n",
       "      <td>717</td>\n",
       "      <td>55</td>\n",
       "      <td>10</td>\n",
       "      <td>1</td>\n",
       "      <td>0.000000</td>\n",
       "      <td>0.000000</td>\n",
       "      <td>0.122257</td>\n",
       "      <td>24.16</td>\n",
       "    </tr>\n",
       "    <tr>\n",
       "      <th>1</th>\n",
       "      <td>Eden Medical Center</td>\n",
       "      <td>20.2</td>\n",
       "      <td>4.1</td>\n",
       "      <td>8.240964</td>\n",
       "      <td>0.0</td>\n",
       "      <td>0</td>\n",
       "      <td>74.393574</td>\n",
       "      <td>55.236450</td>\n",
       "      <td>30</td>\n",
       "      <td>98</td>\n",
       "      <td>1020</td>\n",
       "      <td>26</td>\n",
       "      <td>31</td>\n",
       "      <td>2</td>\n",
       "      <td>0.000000</td>\n",
       "      <td>0.005848</td>\n",
       "      <td>0.113906</td>\n",
       "      <td>14.20</td>\n",
       "    </tr>\n",
       "    <tr>\n",
       "      <th>2</th>\n",
       "      <td>Valleycare Medical Center</td>\n",
       "      <td>32.5</td>\n",
       "      <td>2.8</td>\n",
       "      <td>7.971347</td>\n",
       "      <td>0.0</td>\n",
       "      <td>0</td>\n",
       "      <td>49.828080</td>\n",
       "      <td>59.657020</td>\n",
       "      <td>11</td>\n",
       "      <td>99</td>\n",
       "      <td>1392</td>\n",
       "      <td>17</td>\n",
       "      <td>37</td>\n",
       "      <td>1</td>\n",
       "      <td>0.146657</td>\n",
       "      <td>0.002157</td>\n",
       "      <td>0.162622</td>\n",
       "      <td>10.15</td>\n",
       "    </tr>\n",
       "    <tr>\n",
       "      <th>3</th>\n",
       "      <td>Washington Hospital – Fremont</td>\n",
       "      <td>30.8</td>\n",
       "      <td>2.2</td>\n",
       "      <td>4.645807</td>\n",
       "      <td>0.0</td>\n",
       "      <td>0</td>\n",
       "      <td>34.382979</td>\n",
       "      <td>58.437682</td>\n",
       "      <td>19</td>\n",
       "      <td>98</td>\n",
       "      <td>1856</td>\n",
       "      <td>13</td>\n",
       "      <td>39</td>\n",
       "      <td>2</td>\n",
       "      <td>0.000000</td>\n",
       "      <td>0.005927</td>\n",
       "      <td>0.139997</td>\n",
       "      <td>13.02</td>\n",
       "    </tr>\n",
       "    <tr>\n",
       "      <th>4</th>\n",
       "      <td>Highland Hospital</td>\n",
       "      <td>19.1</td>\n",
       "      <td>32.2</td>\n",
       "      <td>5.338677</td>\n",
       "      <td>0.0</td>\n",
       "      <td>0</td>\n",
       "      <td>46.108216</td>\n",
       "      <td>48.097574</td>\n",
       "      <td>56</td>\n",
       "      <td>95</td>\n",
       "      <td>1329</td>\n",
       "      <td>65</td>\n",
       "      <td>9</td>\n",
       "      <td>2</td>\n",
       "      <td>0.172673</td>\n",
       "      <td>0.009760</td>\n",
       "      <td>0.133084</td>\n",
       "      <td>51.20</td>\n",
       "    </tr>\n",
       "  </tbody>\n",
       "</table>\n",
       "</div>"
      ],
      "text/plain": [
       "                        hospital  C_sec_uncomp_rate  vbac  births_per_bed  \\\n",
       "0            Saint Rose Hospital               25.7   0.0        2.889780   \n",
       "1            Eden Medical Center               20.2   4.1        8.240964   \n",
       "2      Valleycare Medical Center               32.5   2.8        7.971347   \n",
       "3  Washington Hospital – Fremont               30.8   2.2        4.645807   \n",
       "4              Highland Hospital               19.1  32.2        5.338677   \n",
       "\n",
       "   HPSA_SHORTAGE  HPSA_SHORTAGE_0_1  TOC_acute_div_by_beds  \\\n",
       "0            0.0                  0              24.653307   \n",
       "1            0.0                  0              74.393574   \n",
       "2            0.0                  0              49.828080   \n",
       "3            0.0                  0              34.382979   \n",
       "4            0.0                  0              46.108216   \n",
       "\n",
       "   female_patients_percent  hispanic_percent  white_percent  Admt_Newborn  \\\n",
       "0                57.031377                50             94           717   \n",
       "1                55.236450                30             98          1020   \n",
       "2                59.657020                11             99          1392   \n",
       "3                58.437682                19             98          1856   \n",
       "4                48.097574                56             95          1329   \n",
       "\n",
       "   Payer_Medi_Cal_percent  Payer_Priv_Coverage_percent  \\\n",
       "0                      55                           10   \n",
       "1                      26                           31   \n",
       "2                      17                           37   \n",
       "3                      13                           39   \n",
       "4                      65                            9   \n",
       "\n",
       "   Payer_Self_Pay_percent  nicu_div_by_births  BirthDefects_div_by_births  \\\n",
       "0                       1            0.000000                    0.000000   \n",
       "1                       2            0.000000                    0.005848   \n",
       "2                       1            0.146657                    0.002157   \n",
       "3                       2            0.000000                    0.005927   \n",
       "4                       2            0.172673                    0.009760   \n",
       "\n",
       "   Dx_preg_percent  PCT200POV  \n",
       "0         0.122257      24.16  \n",
       "1         0.113906      14.20  \n",
       "2         0.162622      10.15  \n",
       "3         0.139997      13.02  \n",
       "4         0.133084      51.20  "
      ]
     },
     "execution_count": 5,
     "metadata": {},
     "output_type": "execute_result"
    }
   ],
   "source": [
    "df.head() #the bold number is the index"
   ]
  },
  {
   "cell_type": "code",
   "execution_count": 17,
   "metadata": {},
   "outputs": [],
   "source": [
    "#X = df[['vbac','births_per_bed','HPSA_SHORTAGE','TOC_acute_div_by_beds','female_patients_percent','hispanic_percent','white_percent','Admt_Newborn','Payer_Medi_Cal_percent','Payer_Priv_Coverage_percent','Payer_Self_Pay_percent','nicu_div_by_births','BirthDefects_div_by_births','Dx_preg_percent']]\n",
    "#X = df[['vbac','births_per_bed','HPSA_SHORTAGE','TOC_acute_div_by_beds','female_patients_percent','hispanic_percent','white_percent','Admt_Newborn','Payer_Medi_Cal_percent','Payer_Priv_Coverage_percent','Payer_Self_Pay_percent','nicu_div_by_births','BirthDefects_div_by_births','Dx_preg_percent']]\n",
    "#X = df[['births_per_bed','HPSA_SHORTAGE','TOC_acute_div_by_beds','Admt_Newborn']]\n",
    "X = df[['HPSA_SHORTAGE','TOC_acute_div_by_beds','female_patients_percent','hispanic_percent','white_percent','Admt_Newborn','Payer_Medi_Cal_percent','Payer_Priv_Coverage_percent','Payer_Self_Pay_percent','nicu_div_by_births','BirthDefects_div_by_births','Dx_preg_percent','PCT200POV']]\n",
    "y = df['C_sec_uncomp_rate']"
   ]
  },
  {
   "cell_type": "markdown",
   "metadata": {},
   "source": [
    "### Random Forest Model (with Leave One Out)\n",
    "I used data from all (nearly 250) maternity hospitals in the state of California. Although all available data were used, the n was still relatively small. Due to small sample size, I decided to train and test the model using a \"leave one out\" split."
   ]
  },
  {
   "cell_type": "code",
   "execution_count": 18,
   "metadata": {},
   "outputs": [
    {
     "name": "stdout",
     "output_type": "stream",
     "text": [
      "LeaveOneOut()\n",
      "[29.78156345] [25.7] 16.6591601785268\n",
      "[25.3374999] [20.2] 26.39390526295011\n",
      "[27.04539629] [32.5] 29.75270167464921\n",
      "[26.72186337] [30.8] 16.63119840960545\n",
      "[27.55806862] [19.1] 71.53892473337432\n",
      "[27.87170232] [22.7] 26.74650488269593\n",
      "[26.92885213] [23.] 15.435879047439794\n",
      "[28.28791698] [21.6] 44.728233473104915\n",
      "[23.91348388] [39.] 227.60296870676308\n",
      "[27.08952312] [35.4] 69.06402592796135\n",
      "[26.51235307] [24.8] 2.932153029056021\n",
      "[27.312545] [25.2] 4.462846387262593\n",
      "[33.50354945] [70.] 1331.9909027084893\n",
      "[27.46568101] [36.1] 74.55146438402664\n",
      "[26.14931522] [25.3] 0.7213363345357616\n",
      "[26.77546541] [20.8] 35.706186879968\n",
      "[28.68250518] [24.5] 17.493349548909297\n",
      "[27.21103694] [24.8] 5.813099123538776\n",
      "[26.74127499] [25.4] 1.7990186013512812\n",
      "[29.66402327] [37.1] 55.293749980640804\n",
      "[30.32387821] [23.2] 50.74964068150064\n",
      "[27.67640061] [30.1] 5.87383401048276\n",
      "[31.46305952] [30.9] 0.3170360273526006\n",
      "[28.69698185] [34.] 28.122001501422634\n",
      "[29.51983177] [27.] 6.349552156027232\n",
      "[26.68219288] [33.6] 47.85605536493762\n",
      "[26.97870906] [26.8] 0.03193692923699188\n",
      "[29.39415584] [29.9] 0.25587831000168226\n",
      "[28.69819131] [17.3] 129.9187652169314\n",
      "[33.10959201] [20.3] 164.0856474645326\n",
      "[35.78335317] [27.4] 70.28061045012909\n",
      "[34.98143785] [45.1] 102.38529992052894\n",
      "[28.49317715] [22.9] 31.283630679458092\n",
      "[26.83361923] [36.3] 89.61236481498187\n",
      "[37.86020779] [29.4] 71.5751158873334\n",
      "[28.67369145] [20.9] 60.43027870963921\n",
      "[27.74216085] [24.8] 8.656310461225823\n",
      "[28.88473287] [28.2] 0.4688591025299008\n",
      "[28.5760753] [26.] 6.636163962568485\n",
      "[27.71314758] [31.4] 13.59288080006201\n",
      "[26.09061333] [20.4] 32.383080047088384\n",
      "[29.74480556] [29.2] 0.29681309336420136\n",
      "[24.37746603] [31.8] 55.094010510177036\n",
      "[32.52438095] [70.2] 1419.4522706213154\n",
      "[36.33776371] [50.5] 200.56893677589147\n",
      "[33.86666667] [47.9] 196.93444444444458\n",
      "[39.74513889] [42.1] 5.545370852623465\n",
      "[26.25375544] [41.8] 241.68571982558015\n",
      "[28.20546996] [37.1] 79.11266462809196\n",
      "[27.97092857] [37.1] 83.33994514795918\n",
      "[35.9744214] [33.3] 7.152529818694065\n",
      "[28.41133173] [42.5] 198.49057367291138\n",
      "[26.55430165] [39.7] 172.8093850748645\n",
      "[41.89464286] [34.4] 56.16967155612255\n",
      "[30.59295382] [29.8] 0.6287757669229852\n",
      "[44.25487698] [58.2] 194.4664559278315\n",
      "[26.86881399] [25.5] 1.8736517302289968\n",
      "[28.63671753] [37.8] 83.9657457048491\n",
      "[31.82052381] [35.8] 15.836230750566871\n",
      "[27.98590221] [31.9] 15.320161525403517\n",
      "[26.37197729] [39.3] 167.13377106611767\n",
      "[27.84849871] [32.] 17.234962984566813\n",
      "[35.032] [30.1] 24.32462399999995\n",
      "[35.39265585] [31.1] 18.42689428360913\n",
      "[26.19551613] [32.8] 43.61920720471676\n",
      "[34.15733333] [33.5] 0.4320871111111117\n",
      "[33.0859651] [31.1] 3.9440573772863874\n",
      "[28.7247431] [38.6] 97.52069878394485\n",
      "[26.60404416] [29.8] 10.214133740900962\n",
      "[28.79531769] [36.9] 65.68587534799316\n",
      "[28.81265922] [30.8] 3.9495233926074125\n",
      "[45.42987302] [15.3] 907.8092479526327\n",
      "[26.2932466] [26.3] 4.560836729442448e-05\n",
      "[27.91648611] [36.3] 70.28330515271679\n",
      "[29.04031172] [29.6] 0.31325097198015384\n",
      "[26.21603888] [35.6] 88.0587262533377\n",
      "[27.68312167] [26.2] 2.1996498808629443\n",
      "[29.7194959] [33.4] 13.54611043236799\n",
      "[26.56242222] [33.5] 48.129985509464355\n",
      "[26.25780208] [33.4] 51.010991080837684\n",
      "[31.58524359] [33.4] 3.2933408285667225\n",
      "[40.74988095] [36.4] 18.92146429988666\n",
      "[27.17950974] [35.2] 64.32826399215621\n",
      "[27.5638505] [28.8] 1.5280655944086494\n",
      "[26.79990555] [26.1] 0.4898677721780919\n",
      "[28.41671805] [31.4] 8.89997118613332\n",
      "[31.27319322] [27.3] 15.786264390815193\n",
      "[28.93711132] [31.6] 7.090976102026187\n",
      "[28.21520661] [23.] 27.19838000249351\n",
      "[30.97720996] [29.4] 2.4875912475450144\n",
      "[28.7870062] [27.3] 2.2111874255729322\n",
      "[27.7345314] [28.1] 0.133567294002247\n",
      "[30.46127978] [24.] 41.748136443358305\n",
      "[29.10275137] [23.7] 29.189722318850336\n",
      "[29.07942822] [30.3] 1.4897954749692202\n",
      "[41.36725] [27.3] 197.88752256249992\n",
      "[27.26200902] [28.1] 0.702228887927148\n",
      "[30.67225146] [25.5] 26.752185191348534\n",
      "[29.88476141] [29.7] 0.03413678029225971\n",
      "[28.37211029] [28.6] 0.05193372178328756\n",
      "[34.41792407] [29.4] 25.17956194141584\n",
      "[28.08013267] [19.4] 75.34470321990152\n",
      "[26.93719759] [21.4] 30.66055720267569\n",
      "[25.8120052] [23.8] 4.048164905007051\n",
      "[35.45083929] [31.9] 12.608459632971964\n",
      "[30.96879649] [32.4] 2.048343494096944\n",
      "[28.10473321] [27.1] 1.009488825754988\n",
      "[31.89627778] [22.8] 82.74226941049372\n",
      "[29.4124475] [27.1] 5.347413427472862\n",
      "[26.22573239] [25.1] 1.26727341941233\n",
      "[31.21202381] [23.5] 59.47531123866225\n",
      "[28.38104329] [28.1] 0.07898533087835445\n",
      "[29.01795759] [27.8] 1.483420699880038\n",
      "[27.90027346] [21.5] 40.96350035489209\n",
      "[29.98762006] [20.4] 91.92245848350463\n",
      "[37.36383333] [47.8] 108.9135746944444\n",
      "[27.30204211] [28.3] 0.9959199445386009\n",
      "[37.02836617] [32.3] 22.357446675955288\n",
      "[29.70972012] [28.3] 1.987310827579317\n",
      "[26.01837425] [28.] 3.926840611876541\n",
      "[37.01284351] [34.8] 4.896676394106154\n",
      "[26.56187341] [36.5] 98.76636014958797\n",
      "[26.49979446] [24.6] 3.609218978881883\n",
      "[27.18267014] [23.2] 15.861661426083995\n",
      "[28.00443757] [30.7] 7.266056822956264\n",
      "[29.72962021] [33.4] 13.471687794132343\n",
      "[30.94708328] [28.7] 5.049383259631728\n",
      "[25.44816013] [30.8] 28.64219003316906\n",
      "[28.19013413] [25.4] 7.784848465622321\n",
      "[27.66950523] [30.2] 6.40340380282836\n",
      "[27.2152052] [27.4] 0.03414911916679508\n",
      "[28.42213214] [25.7] 7.41000340681471\n",
      "[26.30776341] [23.4] 8.455088026804608\n",
      "[32.28744444] [31.8] 0.23760208641974737\n",
      "[51.13933333] [36.6] 211.39221377777773\n",
      "[27.35819438] [25.8] 2.427969718169427\n",
      "[29.87006926] [37.2] 53.72788459354213\n",
      "[29.09003473] [35.6] 42.37964775259213\n",
      "[27.16100408] [29.8] 6.9642994880351345\n",
      "[25.34247892] [23.8] 2.3792412105267227\n",
      "[27.59323063] [37.] 88.48730997042232\n",
      "[29.4894764] [33.5] 16.0842995543422\n",
      "[27.30019033] [24.8] 6.25095166706886\n",
      "[29.8919538] [26.1] 14.378913659003446\n",
      "[29.04604826] [22.4] 44.16995743492275\n",
      "[28.45587528] [23.6] 23.579524746201404\n",
      "[25.69885245] [26.6] 0.8120669012794742\n",
      "[28.94320414] [29.2] 0.06594411365803557\n",
      "[28.957691] [23.4] 30.88792928032439\n",
      "[25.03689325] [28.4] 11.310486978982505\n",
      "[27.69156405] [24.4] 10.834393915499355\n",
      "[26.04528299] [27.5] 2.1162015904978055\n",
      "[26.35291002] [22.7] 13.343751645541872\n",
      "[24.82133231] [26.8] 3.915125820316405\n",
      "[31.53730034] [31.5] 0.0013913153966612045\n",
      "[31.41544487] [26.6] 23.18850928499765\n",
      "[38.4428869] [37.2] 1.5447678580286064\n",
      "[23.65340542] [31.5] 61.56904647319158\n",
      "[32.7551461] [29.6] 9.954946936930744\n",
      "[27.68043978] [34.3] 43.81857752838026\n",
      "[28.62813257] [24.5] 17.041478481162923\n",
      "[29.47984451] [37.9] 70.8990184023405\n",
      "[31.93603175] [36.1] 17.33863162005545\n",
      "[31.06241611] [24.3] 45.730271577976275\n",
      "[27.0708503] [21.5] 31.034373076596985\n",
      "[27.35855495] [29.9] 6.458942952705402\n",
      "[28.62855037] [26.6] 4.115016595306579\n",
      "[28.99099856] [28.7] 0.08468016017524174\n",
      "[32.23884921] [34.1] 3.463882276706978\n",
      "[30.58123835] [34.5] 15.356692855946456\n",
      "[28.92388468] [26.7] 4.945663088980646\n",
      "[28.99555779] [23.7] 28.042932323515267\n",
      "[26.20182265] [25.9] 0.09109691418807847\n",
      "[27.6267522] [32.7] 25.737843192854424\n",
      "[26.13050733] [23.5] 6.919568811608053\n",
      "[27.74284248] [28.4] 0.4318560105527962\n",
      "[27.29173852] [27.7] 0.16667743966627455\n",
      "[26.9620751] [27.7] 0.5445331525801483\n",
      "[26.56167384] [28.7] 4.572438766331455\n",
      "[23.66379481] [31.8] 66.19783491018256\n",
      "[32.77380921] [23.] 95.52734648376905\n",
      "[26.67349512] [27.] 0.10660543837412934\n",
      "[26.31981578] [17.7] 74.3012240126976\n",
      "[27.29111107] [22.7] 21.078300867258626\n",
      "[26.88677629] [21.] 34.65413512149847\n",
      "[26.3510331] [32.8] 41.589174112275835\n",
      "[27.0187326] [31.2] 17.482997031533568\n",
      "[25.1963404] [29.9] 22.124413677624744\n",
      "[32.40565268] [32.5] 0.00890141666802537\n",
      "[33.58533766] [29.3] 18.364118880249634\n",
      "[25.9172821] [28.2] 5.210801006797344\n",
      "[30.56913639] [23.1] 55.78799847064511\n",
      "[30.18925352] [28.3] 3.5692788526909442\n",
      "[26.47763619] [19.9] 43.26529781816535\n",
      "[24.93304799] [33.3] 70.00588598522332\n",
      "[26.42444336] [18.] 70.97124584918689\n",
      "[31.33910281] [26.9] 19.705633791955993\n",
      "[25.62790111] [26.7] 1.1493960331946562\n",
      "[27.77231026] [22.9] 23.739407308340848\n",
      "[26.63724106] [31.] 19.033665597149437\n",
      "[29.90242773] [30.4] 0.24757816777292907\n",
      "[26.45718415] [26.1] 0.1275805137609424\n",
      "[28.47380893] [24.9] 12.772110243075064\n",
      "[29.49400655] [26.9] 6.728869970554753\n",
      "[26.59537257] [31.7] 26.057221186713384\n",
      "[26.38382642] [27.4] 1.0326087460724247\n",
      "[26.76342712] [20.7] 36.76514847118528\n",
      "[26.20332229] [27.] 0.6346953722928055\n",
      "[27.77624229] [27.] 0.6025520941742522\n"
     ]
    },
    {
     "name": "stdout",
     "output_type": "stream",
     "text": [
      "[27.80858448] [24.3] 12.310165047017003\n",
      "[31.56102372] [28.6] 8.76766149400236\n",
      "[27.20562275] [26.6] 0.36677891167108634\n",
      "[26.308236] [17.4] 79.35666871607495\n",
      "[42.12318939] [25.6] 273.0157877479914\n",
      "[29.08314297] [30.1] 1.0339982234123413\n",
      "[27.74890238] [21.7] 36.58922003229434\n",
      "[29.03729365] [31.4] 5.582381292579991\n",
      "[29.09039128] [19.5] 91.9756049151319\n",
      "[27.76689457] [26.9] 0.7515061948873966\n",
      "[27.38140271] [20.1] 53.018825479072454\n",
      "[25.70804207] [23.5] 4.875449789298112\n",
      "[23.94335461] [22.4] 2.381943459997961\n",
      "[26.29705329] [22.8] 12.229381708226947\n",
      "[27.33284561] [18.5] 78.01916162521931\n",
      "[25.66217529] [24.] 2.762826685196215\n",
      "[28.21191797] [22.6] 31.493623320283273\n",
      "[27.95673631] [18.8] 83.84581988100058\n",
      "[26.94284941] [29.6] 7.060449252468892\n",
      "[26.269996] [29.4] 9.79692505367219\n",
      "[28.10942553] [29.] 0.7931228903883315\n",
      "[31.8809881] [30.1] 3.1719185953798004\n",
      "[27.51901424] [30.5] 8.886276099643382\n",
      "[31.015832] [30.5] 0.2660826523764722\n",
      "[27.07695011] [34.6] 56.5962795895409\n",
      "[30.02560274] [23.8] 38.758129436575764\n",
      "[28.09771578] [29.3] 1.4454873345981372\n",
      "[28.4179433] [32.4] 15.85677558183508\n",
      "[28.31027196] [25.6] 7.345574071964697\n",
      "[25.16578823] [31.4] 38.8653964097404\n",
      "[30.64681944] [25.7] 24.4710226159336\n",
      "[27.22759104] [14.7] 156.9405372917548\n",
      "[30.27346095] [28.1] 4.723932512380761\n"
     ]
    }
   ],
   "source": [
    "loo = LeaveOneOut()\n",
    "loo.get_n_splits(X)\n",
    "print(loo)\n",
    "\n",
    "# Write the results to an array\n",
    "results = []\n",
    "importances = []\n",
    "errors = []\n",
    "for train_index, test_index in list(loo.split(X)):\n",
    "    #print(\"TRAIN:\", train_index, \"TEST:\", test_index)\n",
    "    X_train, X_test = X.iloc[train_index], X.iloc[test_index]\n",
    "    y_train, y_test = y.iloc[train_index], y.iloc[test_index]\n",
    "   #print(X_train, X_test, y_train, y_test)\n",
    "    \n",
    "    forest = RandomForestRegressor(n_jobs=3, max_depth=7, min_samples_leaf=3)\n",
    "    forest.fit(X_train, y_train)\n",
    "    forest_out = forest.predict(X_test)\n",
    "    \n",
    "    \n",
    "    results.append([forest_out[0],y_test.values[0]])\n",
    "    importances.append(forest.feature_importances_)\n",
    "    \n",
    "    error = (forest_out[0]- y_test.values[0])**2\n",
    "    errors.append(error)\n",
    "    \n",
    "    print(forest_out,y_test.values,error)\n",
    "    \n",
    "    #results.append({'test index':test_index, \n",
    "    #               'c-sec rate':y_test,\n",
    "    #               'predicted c-sec rate':forest_out})\n",
    "                   #'feature importances': list(zip(X_train.columns, forest.feature_importances_))})\n"
   ]
  },
  {
   "cell_type": "markdown",
   "metadata": {},
   "source": [
    "### Evaluate the model using RMSE"
   ]
  },
  {
   "cell_type": "code",
   "execution_count": 19,
   "metadata": {},
   "outputs": [
    {
     "name": "stdout",
     "output_type": "stream",
     "text": [
      "6.994683543435117\n",
      "0.0\n"
     ]
    }
   ],
   "source": [
    "#note that errors are already squared\n",
    "rmse=np.sqrt(np.array(errors).mean())\n",
    "print(rmse)\n",
    "\n",
    "from sklearn.metrics import r2_score\n",
    "r2 = r2_score(y_test.values, forest_out) \n",
    "print(r2)"
   ]
  },
  {
   "cell_type": "code",
   "execution_count": 20,
   "metadata": {},
   "outputs": [],
   "source": [
    "#6.8630335333550665\n",
    "#X = df[['births_per_bed','HPSA_SHORTAGE','Admt_Newborn','white_percent','Payer_Medi_Cal_percent','female_patients_percent','BirthDefects_div_by_births']]\n",
    "\n",
    "#6.739236487570557\n",
    "#X = df[['births_per_bed','HPSA_SHORTAGE','Admt_Newborn','white_percent','Payer_Medi_Cal_percent']]\n",
    "\n",
    "#6.8214428829757745\n",
    "#X = df[['births_per_bed','HPSA_SHORTAGE','Admt_Newborn','white_percent']]\n",
    "\n",
    "#6.737187932030288\n",
    "#X = df[['births_per_bed','HPSA_SHORTAGE','Admt_Newborn','hispanic_percent']]\n",
    "\n",
    "#7.312958799964684\n",
    "#X = df[['Admt_Newborn','births_per_bed','HPSA_SHORTAGE']]\n",
    "\n",
    "#6.615351007898472\n",
    "#X = df[['births_per_bed','HPSA_SHORTAGE','TOC_acute_div_by_beds','female_patients_percent','hispanic_percent','white_percent','Admt_Newborn','Payer_Medi_Cal_percent','Payer_Priv_Coverage_percent','Payer_Self_Pay_percent','nicu_div_by_births','BirthDefects_div_by_births','Dx_preg_percent','PCT200POV']]"
   ]
  },
  {
   "cell_type": "markdown",
   "metadata": {},
   "source": [
    "#### Predicted vs observed C-section rates in CA hospitals"
   ]
  },
  {
   "cell_type": "code",
   "execution_count": 21,
   "metadata": {},
   "outputs": [
    {
     "name": "stdout",
     "output_type": "stream",
     "text": [
      "[29.781563447813447, 25.7]\n"
     ]
    },
    {
     "data": {
      "text/plain": [
       "[<matplotlib.lines.Line2D at 0x1a164d25f8>]"
      ]
     },
     "execution_count": 21,
     "metadata": {},
     "output_type": "execute_result"
    },
    {
     "data": {
      "image/png": "[encoded data removed]",
      "text/plain": [
       "<Figure size 432x288 with 1 Axes>"
      ]
     },
     "metadata": {},
     "output_type": "display_data"
    }
   ],
   "source": [
    "print(results[0])\n",
    "res = np.array(results)\n",
    "f,ax = plt.subplots()\n",
    "ax.plot(res[:,0],res[:,1])"
   ]
  },
  {
   "cell_type": "markdown",
   "metadata": {},
   "source": [
    "### Random Forest Modeling Results\n",
    "The Random Forest model cannot predict C-section rates across California hospitals. This could mean that the features that I selected (hospital demographics and characters for which there was publicly available data) may not be primarily responsible for hospital c-section rates. There could be other hospital dynamics (such as staff organization, hospital \"culture,\" etc.) that could be strong influences on C-section rates. Additionally, the limitations of census-level data may not be specific enough to each hospital. Future work to examine more key features, including the use of patient-level data within each hospital, may help more clearly illuminate C-section rates across California hospitals. For now, I will see if statistical analyses can draw more information out key features identified by Random Forest."
   ]
  },
  {
   "cell_type": "code",
   "execution_count": 22,
   "metadata": {},
   "outputs": [
    {
     "data": {
      "text/plain": [
       "13"
      ]
     },
     "execution_count": 22,
     "metadata": {},
     "output_type": "execute_result"
    }
   ],
   "source": [
    "len(X_train.columns)"
   ]
  },
  {
   "cell_type": "markdown",
   "metadata": {},
   "source": [
    "## Feature Importance"
   ]
  },
  {
   "cell_type": "code",
   "execution_count": 23,
   "metadata": {},
   "outputs": [
    {
     "name": "stdout",
     "output_type": "stream",
     "text": [
      "[ 9  6 12 10  2  7  8 11  3  1  0  5  4] [0.0272297  0.03078485 0.04239543 0.04314841 0.04804746 0.05189401\n",
      " 0.05575513 0.06002593 0.07094899 0.09631687 0.11078532 0.16275742\n",
      " 0.19991047]\n"
     ]
    }
   ],
   "source": [
    "importances = np.array(importances)\n",
    "collapsed = np.mean(importances,axis=0)\n",
    "args = np.argsort(collapsed)\n",
    "sorted_lst = args,collapsed[args]\n",
    "print(args,collapsed[args]) #sorts the list\n",
    "#now there is an array from lowest to highest of feature importance"
   ]
  },
  {
   "cell_type": "code",
   "execution_count": 24,
   "metadata": {},
   "outputs": [
    {
     "data": {
      "text/plain": [
       "[<matplotlib.lines.Line2D at 0x1a164c8b70>]"
      ]
     },
     "execution_count": 24,
     "metadata": {},
     "output_type": "execute_result"
    },
    {
     "data": {
      "image/png": "[encoded data removed]",
      "text/plain": [
       "<Figure size 432x288 with 1 Axes>"
      ]
     },
     "metadata": {},
     "output_type": "display_data"
    }
   ],
   "source": [
    "f,ax=plt.subplots()\n",
    "ax.plot(np.arange(len(collapsed)),collapsed[args])"
   ]
  },
  {
   "cell_type": "code",
   "execution_count": 25,
   "metadata": {},
   "outputs": [
    {
     "name": "stdout",
     "output_type": "stream",
     "text": [
      "[ 9  6 12 10  2 11  8  7  3  1  0  4  5] [0.06125019 0.07088514 0.08874383 0.10244982 0.10923154 0.11441131\n",
      " 0.12320511 0.12715506 0.14536795 0.24715189 0.30874255 0.3437563\n",
      " 0.3791818 ]\n",
      "['nicu_div_by_births' 'Payer_Medi_Cal_percent' 'PCT200POV'\n",
      " 'BirthDefects_div_by_births' 'female_patients_percent' 'Dx_preg_percent'\n",
      " 'Payer_Self_Pay_percent' 'Payer_Priv_Coverage_percent' 'hispanic_percent'\n",
      " 'TOC_acute_div_by_beds' 'HPSA_SHORTAGE' 'white_percent' 'Admt_Newborn']\n"
     ]
    }
   ],
   "source": [
    "importances = np.array(importances)\n",
    "collapsed = np.amax(importances,axis=0)\n",
    "args = np.argsort(collapsed)\n",
    "print(args,collapsed[args])\n",
    "print(X_train.columns.values[args])\n",
    "#prints the REVERSE order of importance of features"
   ]
  },
  {
   "cell_type": "code",
   "execution_count": 26,
   "metadata": {},
   "outputs": [
    {
     "data": {
      "image/png": "[encoded data removed]",
      "text/plain": [
       "<Figure size 360x504 with 1 Axes>"
      ]
     },
     "metadata": {},
     "output_type": "display_data"
    }
   ],
   "source": [
    "features = X.columns\n",
    "importance = forest.feature_importances_\n",
    "indices = np.argsort(importance)\n",
    "plt.figure(figsize=(5, 7))\n",
    "plt.title(\"Feature importances\")\n",
    "plt.barh(features[indices], importance[indices],\n",
    "       color=\"r\",  align=\"center\");"
   ]
  },
  {
   "cell_type": "markdown",
   "metadata": {},
   "source": [
    "## Conclusions\n",
    "The purpose of these analyses was to determine whether there were consistent hospital or demographic factors largely responsible for uncomplicated C-section rates in California maternity hospitals. Random Forest was applied to four multi-variable datasets containing hospital and demographic data from the CA Health and Human Services Open Data Portal. While Random Forest performance in predicting C-section rates in CA hospitals was poor, the model did identify some possible features that could merit additional statistical investigation, including the percent of white patients at the hospital and Health Professional Shortage Area (HPSA) status. "
   ]
  }
 ],
 "metadata": {
  "kernelspec": {
   "display_name": "Python 3",
   "language": "python",
   "name": "python3"
  },
  "language_info": {
   "codemirror_mode": {
    "name": "ipython",
    "version": 3
   },
   "file_extension": ".py",
   "mimetype": "text/x-python",
   "name": "python",
   "nbconvert_exporter": "python",
   "pygments_lexer": "ipython3",
   "version": "3.6.5"
  }
 },
 "nbformat": 4,
 "nbformat_minor": 2
}
